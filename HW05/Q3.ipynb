{
 "cells": [
  {
   "cell_type": "markdown",
   "id": "d4647fd3",
   "metadata": {},
   "source": [
    "## HomeWork 5\n",
    "\n",
    "**Bakhshande 98522157**"
   ]
  },
  {
   "cell_type": "markdown",
   "id": "4599dcd8",
   "metadata": {},
   "source": [
    "## Q3"
   ]
  },
  {
   "cell_type": "code",
   "execution_count": 1,
   "id": "66de629d",
   "metadata": {},
   "outputs": [],
   "source": [
    "import cv2\n",
    "import numpy as np\n",
    "import matplotlib.pyplot as plt"
   ]
  },
  {
   "cell_type": "code",
   "execution_count": 2,
   "id": "9a9b7558",
   "metadata": {},
   "outputs": [
    {
     "data": {
      "text/plain": [
       "<matplotlib.image.AxesImage at 0x1ea6141c6a0>"
      ]
     },
     "execution_count": 2,
     "metadata": {},
     "output_type": "execute_result"
    },
    {
     "data": {
      "image/png": "[encoded data removed]",
      "text/plain": [
       "<Figure size 432x288 with 1 Axes>"
      ]
     },
     "metadata": {
      "needs_background": "light"
     },
     "output_type": "display_data"
    }
   ],
   "source": [
    "image = np.zeros((5, 5), dtype='uint8')\n",
    "image[1:-1 , 2] = 255\n",
    "plt.imshow(image, cmap='gray', vmin=0, vmax=255)"
   ]
  },
  {
   "cell_type": "code",
   "execution_count": 3,
   "id": "d82c96c0",
   "metadata": {},
   "outputs": [
    {
     "name": "stdout",
     "output_type": "stream",
     "text": [
      "[[    0.   510.     0.  -510.     0.]\n",
      " [    0.   765.     0.  -765.     0.]\n",
      " [    0.  1020.     0. -1020.     0.]\n",
      " [    0.   765.     0.  -765.     0.]\n",
      " [    0.   510.     0.  -510.     0.]]\n"
     ]
    },
    {
     "data": {
      "image/png": "[encoded data removed]",
      "text/plain": [
       "<Figure size 432x288 with 1 Axes>"
      ]
     },
     "metadata": {
      "needs_background": "light"
     },
     "output_type": "display_data"
    },
    {
     "name": "stdout",
     "output_type": "stream",
     "text": [
      "[[   0.    0.    0.    0.    0.]\n",
      " [   0.  255.  510.  255.    0.]\n",
      " [   0.    0.    0.    0.    0.]\n",
      " [   0. -255. -510. -255.    0.]\n",
      " [   0.    0.    0.    0.    0.]]\n"
     ]
    },
    {
     "data": {
      "image/png": "[encoded data removed]",
      "text/plain": [
       "<Figure size 432x288 with 1 Axes>"
      ]
     },
     "metadata": {
      "needs_background": "light"
     },
     "output_type": "display_data"
    },
    {
     "name": "stdout",
     "output_type": "stream",
     "text": [
      "[[   0.    0.    0.    0.    0.]\n",
      " [   0.  255.    0. -255.    0.]\n",
      " [   0.    0.    0.    0.    0.]\n",
      " [   0. -255.    0.  255.    0.]\n",
      " [   0.    0.    0.    0.    0.]]\n"
     ]
    },
    {
     "data": {
      "image/png": "[encoded data removed]",
      "text/plain": [
       "<Figure size 432x288 with 1 Axes>"
      ]
     },
     "metadata": {
      "needs_background": "light"
     },
     "output_type": "display_data"
    }
   ],
   "source": [
    "Xsobel = cv2.Sobel(src=image, ddepth=cv2.CV_64F, dx=1, dy=0, ksize=3) \n",
    "Ysobel = cv2.Sobel(src=image, ddepth=cv2.CV_64F, dx=0, dy=1, ksize=3) \n",
    "sobel2D = cv2.Sobel(src=image, ddepth=cv2.CV_64F, dx=1, dy=1, ksize=3)\n",
    "\n",
    "print(Xsobel)\n",
    "plt.imshow(Xsobel, cmap='gray')\n",
    "plt.title('Xsobel')\n",
    "plt.show()\n",
    "\n",
    "print(Ysobel)\n",
    "plt.imshow(Ysobel, cmap='gray')\n",
    "plt.title('Ysobel')\n",
    "plt.show()\n",
    "\n",
    "print(sobel2D)\n",
    "plt.imshow(sobel2D, cmap='gray')\n",
    "plt.title('2Dsobel')\n",
    "plt.show()"
   ]
  }
 ],
 "metadata": {
  "kernelspec": {
   "display_name": "Python 3 (ipykernel)",
   "language": "python",
   "name": "python3"
  },
  "language_info": {
   "codemirror_mode": {
    "name": "ipython",
    "version": 3
   },
   "file_extension": ".py",
   "mimetype": "text/x-python",
   "name": "python",
   "nbconvert_exporter": "python",
   "pygments_lexer": "ipython3",
   "version": "3.8.10"
  }
 },
 "nbformat": 4,
 "nbformat_minor": 5
}

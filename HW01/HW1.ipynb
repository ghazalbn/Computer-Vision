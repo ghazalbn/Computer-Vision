{
 "cells": [
  {
   "cell_type": "markdown",
   "id": "d4647fd3",
   "metadata": {},
   "source": [
    "## HomeWork 1\n",
    "\n",
    "**Bakhshande 98522157**"
   ]
  },
  {
   "cell_type": "markdown",
   "id": "4599dcd8",
   "metadata": {},
   "source": [
    "### Q4"
   ]
  },
  {
   "cell_type": "code",
   "execution_count": 1,
   "id": "66de629d",
   "metadata": {},
   "outputs": [],
   "source": [
    "import cv2\n",
    "import numpy as np\n",
    "import matplotlib.pyplot as plt"
   ]
  },
  {
   "cell_type": "markdown",
   "id": "d074299a",
   "metadata": {},
   "source": [
    "#### Q4.2"
   ]
  },
  {
   "cell_type": "code",
   "execution_count": 2,
   "id": "3eae7be8",
   "metadata": {},
   "outputs": [],
   "source": [
    "# path\n",
    "path = r'images\\background.png'\n",
    "  \n",
    "# Using cv2.imread() method\n",
    "image = cv2.imread(path, 1)"
   ]
  },
  {
   "cell_type": "markdown",
   "id": "695e55ac",
   "metadata": {},
   "source": [
    "#### Q4.3"
   ]
  },
  {
   "cell_type": "code",
   "execution_count": 3,
   "id": "68796229",
   "metadata": {},
   "outputs": [
    {
     "data": {
      "text/plain": [
       "-1"
      ]
     },
     "execution_count": 3,
     "metadata": {},
     "output_type": "execute_result"
    }
   ],
   "source": [
    "# Using cv2.cvtColor() method\n",
    "# Using cv2.COLOR_BGR2RGB color space\n",
    "# conversion code\n",
    "image_RGB = cv2.cvtColor(image, cv2.COLOR_BGR2RGB )\n",
    "\n",
    "# Displaying the image\n",
    "cv2.imshow(\"background-RGB\", image_RGB)\n",
    "cv2.waitKey(0)"
   ]
  },
  {
   "cell_type": "markdown",
   "id": "163c473c",
   "metadata": {},
   "source": [
    "#### Q4.4"
   ]
  },
  {
   "cell_type": "code",
   "execution_count": 4,
   "id": "ad2e7cb2",
   "metadata": {},
   "outputs": [
    {
     "data": {
      "text/plain": [
       "-1"
      ]
     },
     "execution_count": 4,
     "metadata": {},
     "output_type": "execute_result"
    }
   ],
   "source": [
    "image_RGB_resized = cv2.resize(image_RGB, (570, 290))\n",
    "\n",
    "# Displaying the image\n",
    "cv2.imshow(\"background-RGB 570x290\", image_RGB_resized)\n",
    "cv2.waitKey(0)"
   ]
  },
  {
   "cell_type": "markdown",
   "id": "90787b10",
   "metadata": {},
   "source": [
    "#### Q4.5"
   ]
  },
  {
   "cell_type": "code",
   "execution_count": 5,
   "id": "a0da33fa",
   "metadata": {},
   "outputs": [
    {
     "data": {
      "text/plain": [
       "-1"
      ]
     },
     "execution_count": 5,
     "metadata": {},
     "output_type": "execute_result"
    }
   ],
   "source": [
    "# Window name in which image is displayed\n",
    "window_name = 'Rectangle 560x280'\n",
    "\n",
    "start_x = int((570 - 560) / 2) #5\n",
    "end_x = start_x + 560          #565\n",
    "start_y = int((290 - 280) / 2) #5\n",
    "end_y = start_y + 280          #285\n",
    "\n",
    "p1 = (start_x, start_y)\n",
    "p2 = (end_x, start_y)\n",
    "p3 = (end_x, end_y)\n",
    "p4 = (start_x, end_y)\n",
    "points = [p1, p2, p3, p4]\n",
    " \n",
    "# black color in BGR\n",
    "color = (0, 0, 0)\n",
    " \n",
    "# Line thickness of 1 px\n",
    "thickness = 1\n",
    "\n",
    "rectangle = image_RGB_resized.copy()\n",
    "\n",
    "# Using cv2.line() method\n",
    "for i in range(4):\n",
    "    rectangle = cv2.line(rectangle, points[i - 1], points[i], color, thickness)\n",
    "    \n",
    "# Displaying the image\n",
    "cv2.imshow(window_name, rectangle)\n",
    "cv2.waitKey(0)"
   ]
  },
  {
   "cell_type": "markdown",
   "id": "92573e05",
   "metadata": {},
   "source": [
    "#### Q4.6"
   ]
  },
  {
   "cell_type": "code",
   "execution_count": 6,
   "id": "defeec5e",
   "metadata": {},
   "outputs": [
    {
     "data": {
      "text/plain": [
       "-1"
      ]
     },
     "execution_count": 6,
     "metadata": {},
     "output_type": "execute_result"
    }
   ],
   "source": [
    "# Window name in which image is displayed\n",
    "window_name = 'Vertices'\n",
    " \n",
    "# Radius of circle\n",
    "radius = 3\n",
    "  \n",
    "c1 = (255, 0, 0)\n",
    "c2 = (0, 0, 255)\n",
    "c3 = (255, 255, 0)\n",
    "c4 = (255, 0, 255)\n",
    "colors = [c1, c2, c3, c4]\n",
    "  \n",
    "# thickness of 3 px\n",
    "thickness = 3\n",
    "\n",
    "vertices = rectangle.copy()\n",
    "\n",
    "# Using cv2.circle() method\n",
    "for i in range(4):\n",
    "    vertices = cv2.circle(vertices, points[i], radius, colors[i], thickness)\n",
    "    \n",
    "# Displaying the image\n",
    "cv2.imshow(window_name, vertices)\n",
    "cv2.waitKey(0)"
   ]
  },
  {
   "cell_type": "code",
   "execution_count": 7,
   "id": "53103ce3",
   "metadata": {},
   "outputs": [
    {
     "data": {
      "text/plain": [
       "-1"
      ]
     },
     "execution_count": 7,
     "metadata": {},
     "output_type": "execute_result"
    }
   ],
   "source": [
    "window_name = 'end.png'\n",
    "\n",
    "# creates blank image\n",
    "blank_image = np.zeros((278, 557, 3), np.uint8) + 255 \n",
    "\n",
    "# black color in BGR\n",
    "color = (0, 0, 0)\n",
    "\n",
    "# Line thickness of 1 px\n",
    "thickness = 1\n",
    "\n",
    "end_image = vertices.copy()\n",
    "\n",
    "for p in points:\n",
    "    for x in range(start_x, end_x + 1, int((end_x - start_x) / 7)):\n",
    "        y = int((end_y - start_y) / 2)\n",
    "        cv2.line(end_image, p, (x, y), color, thickness)\n",
    "    \n",
    "# Displaying the image\n",
    "cv2.imshow(window_name, end_image)\n",
    "cv2.waitKey(0)"
   ]
  },
  {
   "cell_type": "markdown",
   "id": "a93f7e88",
   "metadata": {},
   "source": [
    "#### Q4.8"
   ]
  },
  {
   "cell_type": "code",
   "execution_count": 8,
   "id": "8be46b2d",
   "metadata": {},
   "outputs": [
    {
     "data": {
      "text/plain": [
       "True"
      ]
     },
     "execution_count": 8,
     "metadata": {},
     "output_type": "execute_result"
    }
   ],
   "source": [
    "cv2.imwrite(\"images/mypic.jpg\", end_image)"
   ]
  },
  {
   "cell_type": "code",
   "execution_count": null,
   "id": "bdb937d0",
   "metadata": {},
   "outputs": [],
   "source": []
  }
 ],
 "metadata": {
  "kernelspec": {
   "display_name": "Python 3 (ipykernel)",
   "language": "python",
   "name": "python3"
  },
  "language_info": {
   "codemirror_mode": {
    "name": "ipython",
    "version": 3
   },
   "file_extension": ".py",
   "mimetype": "text/x-python",
   "name": "python",
   "nbconvert_exporter": "python",
   "pygments_lexer": "ipython3",
   "version": "3.8.10"
  }
 },
 "nbformat": 4,
 "nbformat_minor": 5
}
